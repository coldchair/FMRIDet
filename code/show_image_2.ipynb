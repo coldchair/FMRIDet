{
 "cells": [
  {
   "cell_type": "code",
   "execution_count": 15,
   "metadata": {},
   "outputs": [
    {
     "name": "stdout",
     "output_type": "stream",
     "text": [
      "['024739', '041927', '003181', '062302', '003687', '006489', '006558', '010244', '010393', '011932', '013312', '016616', '017549', '022523', '025250', '025371', '028341', '031233', '034068', '041566', '049234', '050500', '054959', '007007', '003449', '039509', '071450', '042171', '046321', '054147', '072312', '071450', '069614', '064615', '065414', '038022', '037927', '036731', '008933', '015506', '021192', '033131', '043156', '044720', '020054', '020650', '023729', '024202', '029886', '047099', '048157', '049957', '052070', '057838', '058187', '060305', '061797', '061873', '065414', '066278', '069614', '070075', '072209', '072080', '070232', '071229', '070360', '004423', '005034', '005338', '005542', '006514', '007039', '007840', '008006', '008109', '008225', '008435', '008933', '009147', '009847', '009978', '010471', '010600', '010610', '012634', '012796', '012937', '013653', '015506', '017369', '017374', '018505', '020054', '020650', '020820', '021108', '021192', '021218', '022143', '022155', '022263', '023871', '024739', '025091', '025371', '025693', '025959', '026119', '026971', '038022', '040235', '040548', '042238', '042980', '043224', '043950', '044097', '044720', '045129', '046460', '003626', '056154', '056418', '056695', '059595', '061748', '061873', '062209', '062683', '065069', '065253', '066216', '066278', '067204', '067742', '068858', '069007', '069785', '070038', '070368', '070947']\n"
     ]
    }
   ],
   "source": [
    "from PIL import Image\n",
    "import numpy as np\n",
    "import matplotlib.pyplot as plt\n",
    "\n",
    "id = []\n",
    "with open('./list.txt', 'r') as f:\n",
    "    for line in f.readlines():\n",
    "        id.append(line.strip())\n",
    "    \n",
    "print(id)"
   ]
  },
  {
   "cell_type": "code",
   "execution_count": 16,
   "metadata": {},
   "outputs": [],
   "source": [
    "image_dir = [\n",
    "    '/home/bingxing2/ailab/scx7kzd/work_dirs/dab_detr_distill_64c_300q_l2_multi_d1_atlas2_f0.001_t256_k5_2_old/3e_30p_50n/my_test',\n",
    "    '/home/bingxing2/ailab/scx7kzd/work_dirs/dab_detr_distill_64c_300q_l2_multi_d1_atlas2_f0.001_t256_k5_2_old/test_s1_20p_44e/my_test',\n",
    "    '/home/bingxing2/ailab/scx7kzd/work_dirs/dab_detr_distill_64c_300q_l2_multi_d1_atlas2_f0.001_t256_k5_2_old/44e_20p_50n_s2/my_test',\n",
    "    '/home/bingxing2/ailab/scx7kzd/work_dirs/dab_detr_distill_64c_300q_l2_multi_d1_atlas2_f0.001_t256_k5_2_old/3e_30p_50n_s2/my_test',\n",
    "    '/home/bingxing2/ailab/scx7kzd/work_dirs/dab_detr_distill_64c_300q_l2_multi_d1_atlas2_f0.001_t256_k5_2_old/3e_30p_50n_s5/my_test',\n",
    "    '/home/bingxing2/ailab/scx7kzd/work_dirs/dab_detr_distill_64c_300q_l2_multi_d1_atlas2_f0.001_t256_k5_2_old/50e_30p_50n_s1/my_test',\n",
    "    '/home/bingxing2/ailab/scx7kzd/work_dirs/dab_detr_distill_64c_300q_l2_multi_d1_atlas2_f0.001_t256_k5_2_old/50e_30p_50n_s2/my_test',\n",
    "    '/home/bingxing2/ailab/scx7kzd/work_dirs/dab_detr_distill_64c_300q_l2_multi_d1_atlas2_f0.001_t256_k5_2_old/50e_30p_50n_s5/my_test',\n",
    "    '/home/bingxing2/ailab/scx7kzd/work_dirs/dab_detr_distill_64c_300q_l2_multi_d1_atlas2_f0.001_t256_k5_2_old/50e_30p_50n_s7/my_test',\n",
    "    '/home/bingxing2/ailab/scx7kzd/work_dirs/dab_detr_config_teacher_256c_mindeye/s1/my_test',\n",
    "    '/home/bingxing2/ailab/scx7kzd/work_dirs/dab_detr_config_teacher_256c_mindeye/takagi_s1_2/my_test',\n",
    "    '/home/bingxing2/ailab/scx7kzd/denghan/fMRI-reconstruction-NSD/img_rec_s1',\n",
    "    '/home/bingxing2/ailab/group/ai4bio/public/nsd_processed_data/all_images/',\n",
    "]\n",
    "# image_dir = [\n",
    "#     '/home/bingxing2/ailab/scx7kzd/work_dirs/dab_detr_distill_64c_300q_l2_multi_d1_atlas2_f0.001_t256_k5_2_old/3e_30p_50n/my_test',\n",
    "#     '/home/bingxing2/ailab/scx7kzd/work_dirs/dab_detr_distill_64c_300q_l2_multi_d1_atlas2_f0.001_t256_k5_2_old/3e_30p_50n_s2_2/my_test',\n",
    "#     '/home/bingxing2/ailab/scx7kzd/work_dirs/dab_detr_distill_64c_300q_l2_multi_d1_atlas2_f0.001_t256_k5_2_old/3e_30p_50n_s5_2/my_test',\n",
    "#     '/home/bingxing2/ailab/scx7kzd/work_dirs/dab_detr_distill_64c_300q_l2_multi_d1_atlas2_f0.001_t256_k5_2_old/3e_30p_50n_s7_2/my_test',\n",
    "\n",
    "#     '/home/bingxing2/ailab/scx7kzd/work_dirs/dab_detr_distill_64c_300q_l2_multi_d1_atlas2_f0.001_t256_k5_2_old/44e_30p_50n_s1/my_test',\n",
    "#     '/home/bingxing2/ailab/scx7kzd/work_dirs/dab_detr_distill_64c_300q_l2_multi_d1_atlas2_f0.001_t256_k5_2_old/44e_30p_50n_s2/my_test',\n",
    "#     '/home/bingxing2/ailab/scx7kzd/work_dirs/dab_detr_distill_64c_300q_l2_multi_d1_atlas2_f0.001_t256_k5_2_old/44e_30p_50n_s5/my_test',\n",
    "#     '/home/bingxing2/ailab/scx7kzd/work_dirs/dab_detr_distill_64c_300q_l2_multi_d1_atlas2_f0.001_t256_k5_2_old/44e_30p_50n_s7/my_test',\n",
    "#     '/home/bingxing2/ailab/scx7kzd/denghan/fMRI-reconstruction-NSD/img_rec_s5',\n",
    "#     '/home/bingxing2/ailab/scx7kzd/denghan/fMRI-reconstruction-NSD/img_rec_s2',\n",
    "#     '/home/bingxing2/ailab/scx7kzd/denghan/fMRI-reconstruction-NSD/img_rec_s7',\n",
    "#     '/home/bingxing2/ailab/scx7kzd/denghan/fMRI-reconstruction-NSD/img_rec_s1',\n",
    "#     '/home/bingxing2/ailab/group/ai4bio/public/nsd_processed_data/all_images/',\n",
    "# ]\n",
    "\n",
    "def imshow(image, save_path):\n",
    "    # image = image.resize((800, 800))\n",
    "    image.save(save_path)\n",
    "    \n",
    "    # fig, ax1 = plt.subplots(1, 1)\n",
    "    # ax1.imshow(image)\n",
    "    # ax1.axis('off')\n",
    "    # plt.savefig('./tes.png', bbox_inches = 'tight', dpi = 425)\n",
    "    # plt.show()\n",
    "\n",
    "def read_image(image_path, save_path, left, fg):\n",
    "    image = Image.open(image_path)\n",
    "\n",
    "    if (fg):\n",
    "        imshow(image, save_path + '.png')\n",
    "        return None\n",
    "\n",
    "    # 获取图片尺寸\n",
    "    width, height = image.size\n",
    "\n",
    "    # 将图片左右拆成两版\n",
    "    left_image = image.crop((0, 0, width // 2, height))\n",
    "    right_image = image.crop((width // 2, 0, width, height))\n",
    "\n",
    "    if (left):\n",
    "        imshow(left_image, save_path + 'l.png')\n",
    "    imshow(right_image, save_path + 'r.png')\n",
    "\n",
    "import os\n",
    "\n",
    "n = len(image_dir)\n",
    "\n",
    "save_dir = './exp_multi_4'\n",
    "\n",
    "os.makedirs(save_dir, exist_ok=True)\n",
    "\n",
    "for idx, i in enumerate(id[:]):\n",
    "    for j, dir in enumerate(image_dir):\n",
    "        read_image(os.path.join(dir, f'{i}.png'),\n",
    "                   f'{save_dir}/{idx}_{j}',\n",
    "                   j == 0,\n",
    "                   j >= n - 2,\n",
    "        )\n",
    "    # break"
   ]
  }
 ],
 "metadata": {
  "kernelspec": {
   "display_name": "fmridet",
   "language": "python",
   "name": "python3"
  },
  "language_info": {
   "codemirror_mode": {
    "name": "ipython",
    "version": 3
   },
   "file_extension": ".py",
   "mimetype": "text/x-python",
   "name": "python",
   "nbconvert_exporter": "python",
   "pygments_lexer": "ipython3",
   "version": "3.10.14"
  }
 },
 "nbformat": 4,
 "nbformat_minor": 2
}
