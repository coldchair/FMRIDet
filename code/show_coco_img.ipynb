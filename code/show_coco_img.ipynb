{
 "cells": [
  {
   "cell_type": "code",
   "execution_count": 14,
   "metadata": {},
   "outputs": [],
   "source": [
    "img_path = '/home/bingxing2/ailab/group/ai4bio/public/nsd_processed_data/all_images/'\n",
    "\n",
    "img_path = '/home/bingxing2/ailab/scx7kzd/work_dirs/dab_detr_distill_64c_300q_l2_multi_d1_atlas2_f0.001_t256_k5_2_old/test_s1_30p/my_test'\n",
    "\n",
    "id_list = ['039509']\n",
    "\n",
    "img_list = []\n",
    "\n",
    "import os\n",
    "for id in id_list:\n",
    "    img_list.append(os.path.join(img_path, f'{id}.png'))\n"
   ]
  },
  {
   "cell_type": "code",
   "execution_count": 15,
   "metadata": {},
   "outputs": [
    {
     "name": "stdout",
     "output_type": "stream",
     "text": [
      "(850, 425)\n"
     ]
    }
   ],
   "source": [
    "from PIL import Image\n",
    "import os\n",
    "from tqdm import tqdm\n",
    "import matplotlib.pyplot as plt\n",
    "\n",
    "for img_path in img_list:\n",
    "    image = Image.open(img_path)\n",
    "    print(image.size)\n",
    "    image = image.crop((425, 0, 850, 425))\n",
    "    image.save('./img/test.png')\n",
    "    # 关闭图像文件\n",
    "    image.close()\n",
    "\n"
   ]
  }
 ],
 "metadata": {
  "kernelspec": {
   "display_name": "fmridet",
   "language": "python",
   "name": "python3"
  },
  "language_info": {
   "codemirror_mode": {
    "name": "ipython",
    "version": 3
   },
   "file_extension": ".py",
   "mimetype": "text/x-python",
   "name": "python",
   "nbconvert_exporter": "python",
   "pygments_lexer": "ipython3",
   "version": "3.10.14"
  }
 },
 "nbformat": 4,
 "nbformat_minor": 2
}
