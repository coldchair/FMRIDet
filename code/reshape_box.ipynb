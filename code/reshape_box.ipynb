{
 "cells": [
  {
   "cell_type": "code",
   "execution_count": 1,
   "metadata": {},
   "outputs": [
    {
     "name": "stdout",
     "output_type": "stream",
     "text": [
      "downloading annotations from http://images.cocodataset.org/annotations/annotations_trainval2017.zip\n",
      "loading annotations into memory...\n",
      "Done (t=0.03s)\n",
      "creating index...\n",
      "index created!\n"
     ]
    },
    {
     "data": {
      "text/plain": [
       "[{'image_id': 532481,\n",
       "  'id': 541125,\n",
       "  'caption': \"A person kitesurfing over the waves of the ocean's shore.\"},\n",
       " {'image_id': 532481,\n",
       "  'id': 542259,\n",
       "  'caption': 'a kite surfer is doing a flying trick over some water'},\n",
       " {'image_id': 532481,\n",
       "  'id': 547713,\n",
       "  'caption': 'A man is flying up in the air and having fun. '},\n",
       " {'image_id': 532481,\n",
       "  'id': 554427,\n",
       "  'caption': 'A guy is waterboarding in the ocean on a windy day.'},\n",
       " {'image_id': 532481,\n",
       "  'id': 558036,\n",
       "  'caption': 'A person kite boarding in rough seas near the shoreline.'}]"
      ]
     },
     "execution_count": 1,
     "metadata": {},
     "output_type": "execute_result"
    }
   ],
   "source": [
    "\n",
    "import argparse\n",
    "import os\n",
    "import numpy as np\n",
    "import pandas as pd\n",
    "from nsd_access import NSDAccess\n",
    "import scipy.io\n",
    "\n",
    "from config import NSD_ROOT_DIR, DATA_ROOT_DIR\n",
    "from tqdm import tqdm\n",
    "\n",
    "\n",
    "subj = 'subj01'\n",
    "atlasname = 'streams'\n",
    "\n",
    "proxy_list = ['HTTP_PROXY', 'HTTPS_PROXY', 'http_proxy', 'https_proxy']\n",
    "for proxy in proxy_list:\n",
    "    os.environ[proxy] = 'http://58.34.83.134:31280'\n",
    "\n",
    "nsda = NSDAccess(NSD_ROOT_DIR)\n",
    "nsd_expdesign = scipy.io.loadmat(os.path.join(NSD_ROOT_DIR, 'nsddata/experiments/nsd/nsd_expdesign.mat'))\n",
    "\n",
    "# for downlaod annotations\n",
    "nsda.read_image_coco_info([0])"
   ]
  },
  {
   "cell_type": "code",
   "execution_count": 2,
   "metadata": {},
   "outputs": [],
   "source": [
    "import matplotlib.pyplot as plt\n",
    "import matplotlib.patches as patches\n",
    "\n",
    "size = 425\n",
    "def calc(x, len, h, l, r):\n",
    "    if (len <= 0):\n",
    "        return 0\n",
    "    l = h * l\n",
    "    r = h * (1 - r)\n",
    "    y = x + len\n",
    "    return max(0, (min(y, r) - max(x, l)) / len)\n",
    "\n",
    "def resize_bbox(bbox, cropBox, h, w):\n",
    "    ratio = calc(bbox[0], bbox[2], w, cropBox[2], cropBox[3]) * calc(bbox[1], bbox[3], h, cropBox[0], cropBox[1])\n",
    "\n",
    "    bbox[1] -= h * cropBox[0]\n",
    "    h *= (1 - cropBox[0] - cropBox[1])\n",
    "\n",
    "    bbox[0] -= w * cropBox[2]\n",
    "    w = w * (1 - cropBox[2] - cropBox[3])\n",
    "\n",
    "    bbox[0] *= size / w\n",
    "    bbox[2] *= size / w\n",
    "\n",
    "    bbox[1] *= size / h\n",
    "    bbox[3] *= size / h\n",
    "\n",
    "    # Boundary processing\n",
    "    bbox[0] = max(0, bbox[0])\n",
    "    bbox[1] = max(0, bbox[1])\n",
    "    bbox[2] = min(size - bbox[0], bbox[2])\n",
    "    bbox[3] = min(size - bbox[1], bbox[3])\n",
    "\n",
    "    sratio = (bbox[2] * bbox[3]) / (size * size)\n",
    "\n",
    "    return bbox, ratio, sratio\n"
   ]
  },
  {
   "cell_type": "code",
   "execution_count": 3,
   "metadata": {},
   "outputs": [
    {
     "name": "stdout",
     "output_type": "stream",
     "text": [
      "loading annotations into memory...\n",
      "Done (t=0.41s)\n",
      "creating index...\n",
      "index created!\n",
      "In total 200\n"
     ]
    }
   ],
   "source": [
    "\n",
    "class_labels = [i for i in range(0, 200)]\n",
    "for x in nsda.get_coco_cats_list():\n",
    "    class_labels[x['id']] = x['name']\n",
    "\n",
    "print(f\"In total {len(class_labels)}\")"
   ]
  },
  {
   "cell_type": "code",
   "execution_count": 4,
   "metadata": {},
   "outputs": [
    {
     "name": "stdout",
     "output_type": "stream",
     "text": [
      "loading annotations into memory...\n",
      "Done (t=10.19s)\n",
      "creating index...\n",
      "index created!\n",
      "loading annotations into memory...\n",
      "Done (t=0.33s)\n",
      "creating index...\n",
      "index created!\n",
      "loading annotations into memory...\n",
      "Done (t=12.09s)\n",
      "creating index...\n",
      "index created!\n",
      "loading annotations into memory...\n",
      "Done (t=1.81s)\n",
      "creating index...\n",
      "index created!\n"
     ]
    }
   ],
   "source": [
    "\n",
    "st = 0\n",
    "en = 73000\n",
    "\n",
    "id_list = list(range(st, en))\n",
    "info_list = nsda.get_image_info(id_list)\n",
    "info_Img_list = nsda.read_image_coco_info_Img(id_list, info_type = 'instances')\n",
    "annotations_list = nsda.read_image_coco_info(id_list, info_type='instances')\n"
   ]
  },
  {
   "cell_type": "code",
   "execution_count": 5,
   "metadata": {},
   "outputs": [],
   "source": [
    "n = 73000\n",
    "show = False\n",
    "filter_ratio = 0"
   ]
  },
  {
   "cell_type": "code",
   "execution_count": 6,
   "metadata": {},
   "outputs": [
    {
     "name": "stdout",
     "output_type": "stream",
     "text": [
      "loading annotations into memory...\n",
      "Done (t=0.36s)\n",
      "creating index...\n",
      "index created!\n"
     ]
    },
    {
     "name": "stderr",
     "output_type": "stream",
     "text": [
      "100%|██████████| 73000/73000 [00:03<00:00, 19387.50it/s]\n"
     ]
    }
   ],
   "source": [
    "st = 0\n",
    "en = st + n\n",
    "\n",
    "id_list = id_list[st:en]\n",
    "info_list = info_list[st:en]\n",
    "info_Img_list = info_Img_list[st:en]\n",
    "annotations_list = annotations_list[st:en]\n",
    "\n",
    "outputs = nsda.get_coco_dataset().copy()\n",
    "outputs['images'] = []\n",
    "outputs['annotations'] = []\n",
    "tot_annotation = 0\n",
    "\n",
    "\n",
    "for i, (info, info_Img, annotations) in enumerate(tqdm(list(zip(info_list, info_Img_list, annotations_list)))):\n",
    "    info_Img_new = info_Img[0].copy()\n",
    "    info_Img_new['id'] = i\n",
    "    info_Img_new['width'] = size\n",
    "    info_Img_new['height'] = size\n",
    "    info_Img_new['file_name'] = f'{i:06}.png'\n",
    "    outputs['images'].append(info_Img_new)\n",
    "\n",
    "    cropBox = info['cropBox']\n",
    "    cropBox = eval(cropBox)\n",
    "    h, w = info_Img[0]['height'], info_Img[0]['width']\n",
    "\n",
    "    if (show):\n",
    "        img = nsda.read_images(i, show=False)\n",
    "        # Draw the image\n",
    "        fig, ax = plt.subplots()\n",
    "        ax.imshow(img)\n",
    "\n",
    "    # Draw the annotations with class labels\n",
    "    for annotation in annotations:\n",
    "        # print(annotation)\n",
    "        bbox = annotation['bbox'].copy()\n",
    "        bbox, ratio, sratio = resize_bbox(bbox, cropBox, h, w)\n",
    "\n",
    "        if ratio < 0.5:\n",
    "            continue\n",
    "\n",
    "        if sratio < filter_ratio:\n",
    "            continue\n",
    "        # print(sratio)\n",
    "\n",
    "        annotation_new = annotation.copy()\n",
    "        annotation_new['image_id'] = i\n",
    "        annotation_new['bbox'] = bbox\n",
    "        annotation_new['id'] = tot_annotation\n",
    "        tot_annotation += 1\n",
    "        outputs['annotations'].append(annotation_new)\n",
    "\n",
    "\n",
    "\n",
    "        if (show):\n",
    "            category_id = annotation['category_id']\n",
    "            class_label = class_labels[category_id]  # Adjust index to match class_labels list\n",
    "            rect = patches.Rectangle((bbox[0], bbox[1]), bbox[2], bbox[3], linewidth=1, edgecolor='r', facecolor='none')\n",
    "            ax.add_patch(rect)\n",
    "            ax.text(bbox[0], bbox[1], class_label, color='r')\n",
    "\n",
    "    if (show):\n",
    "        # Show the image with annotations\n",
    "        plt.show()\n",
    "\n",
    "import json\n",
    "\n",
    "outputs_path = os.path.join(DATA_ROOT_DIR, f'instances_{st}_{en}_{filter_ratio}.json')\n",
    "with open(outputs_path, \"w\") as f:\n",
    "    json.dump(outputs, f)\n",
    "    "
   ]
  }
 ],
 "metadata": {
  "kernelspec": {
   "display_name": "mindeye",
   "language": "python",
   "name": "python3"
  },
  "language_info": {
   "codemirror_mode": {
    "name": "ipython",
    "version": 3
   },
   "file_extension": ".py",
   "mimetype": "text/x-python",
   "name": "python",
   "nbconvert_exporter": "python",
   "pygments_lexer": "ipython3",
   "version": "3.10.14"
  }
 },
 "nbformat": 4,
 "nbformat_minor": 2
}
