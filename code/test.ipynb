{
 "cells": [
  {
   "cell_type": "code",
   "execution_count": 4,
   "metadata": {},
   "outputs": [
    {
     "name": "stdout",
     "output_type": "stream",
     "text": [
      "(2770, 7604)\n"
     ]
    }
   ],
   "source": [
    "import numpy as np\n",
    "file_path = '/mnt/workspace/maxinzhu/denghan/nsd_processed_data/mrifeat/subj01/subj01_ventral_betas_te.npy'\n",
    "\n",
    "a = np.load(file_path)\n",
    "\n",
    "print(a.shape)\n"
   ]
  }
 ],
 "metadata": {
  "kernelspec": {
   "display_name": "openmmlab",
   "language": "python",
   "name": "python3"
  },
  "language_info": {
   "codemirror_mode": {
    "name": "ipython",
    "version": 3
   },
   "file_extension": ".py",
   "mimetype": "text/x-python",
   "name": "python",
   "nbconvert_exporter": "python",
   "pygments_lexer": "ipython3",
   "version": "3.10.14"
  }
 },
 "nbformat": 4,
 "nbformat_minor": 2
}
